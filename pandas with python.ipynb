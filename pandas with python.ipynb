{
 "cells": [
  {
   "cell_type": "code",
   "execution_count": 2,
   "id": "8455234c",
   "metadata": {},
   "outputs": [
    {
     "name": "stdout",
     "output_type": "stream",
     "text": [
      "  subject  amount\n",
      "0  python    1000\n",
      "1    java    2000\n"
     ]
    }
   ],
   "source": [
    "import pandas as pd\n",
    "from operator import add\n",
    "from functools import reduce\n",
    "coding={'subject':['python','java'],'amount':[1000,2000]}\n",
    "df=pd.DataFrame(coding)\n",
    "print(df)"
   ]
  },
  {
   "cell_type": "code",
   "execution_count": 4,
   "id": "2f24bcd4",
   "metadata": {},
   "outputs": [
    {
     "name": "stdout",
     "output_type": "stream",
     "text": [
      "   eno       ename qualification subject\n",
      "0  101     ganesha            be      ec\n",
      "1  102   yashodara         btech      ce\n",
      "2  103  krishnappa        deplom      os\n",
      "3  104     monappa           bse    java\n",
      "4  105    narayana           mse  python\n"
     ]
    }
   ],
   "source": [
    "data={\n",
    "    'eno':[101,102,103,104,105],\n",
    "    'ename':['ganesha','yashodara','krishnappa','monappa','narayana'],\n",
    "    'qualification':['be','btech','deplom','bse','mse'],\n",
    "    'subject':['ec','ce','os','java','python']\n",
    "      }\n",
    "df=pd.DataFrame(data)\n",
    "print(df)\n"
   ]
  },
  {
   "cell_type": "code",
   "execution_count": null,
   "id": "02b6eb21",
   "metadata": {},
   "outputs": [],
   "source": []
  }
 ],
 "metadata": {
  "kernelspec": {
   "display_name": "Python 3 (ipykernel)",
   "language": "python",
   "name": "python3"
  },
  "language_info": {
   "codemirror_mode": {
    "name": "ipython",
    "version": 3
   },
   "file_extension": ".py",
   "mimetype": "text/x-python",
   "name": "python",
   "nbconvert_exporter": "python",
   "pygments_lexer": "ipython3",
   "version": "3.11.4"
  }
 },
 "nbformat": 4,
 "nbformat_minor": 5
}
