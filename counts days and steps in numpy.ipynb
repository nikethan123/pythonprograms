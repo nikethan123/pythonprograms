{
 "cells": [
  {
   "cell_type": "code",
   "execution_count": 1,
   "id": "0f883413",
   "metadata": {},
   "outputs": [
    {
     "data": {
      "text/plain": [
       "array([[   1, 4555],\n",
       "       [   2, 5665],\n",
       "       [   3, 8778],\n",
       "       [   4, 9887],\n",
       "       [   5, 8997],\n",
       "       [   6, 5444],\n",
       "       [   7, 1324],\n",
       "       [   8, 4242],\n",
       "       [   9, 6556],\n",
       "       [  10, 4532]])"
      ]
     },
     "execution_count": 1,
     "metadata": {},
     "output_type": "execute_result"
    }
   ],
   "source": [
    "import numpy as np\n",
    "days=np.arange(1,11)\n",
    "steps=[4555,5665,8778,9887,8997,5444,1324,4242,6556,4532]\n",
    "arr=np.array([days,steps])\n",
    "arr=arr.T\n",
    "arr"
   ]
  },
  {
   "cell_type": "code",
   "execution_count": 2,
   "id": "cb5ea201",
   "metadata": {},
   "outputs": [
    {
     "data": {
      "text/plain": [
       "array([[    1,  6555],\n",
       "       [    2,  7665],\n",
       "       [    3, 10778],\n",
       "       [    4, 11887],\n",
       "       [    5, 10997],\n",
       "       [    6,  7444],\n",
       "       [    7,  3324],\n",
       "       [    8,  6242],\n",
       "       [    9,  8556],\n",
       "       [   10,  6532]])"
      ]
     },
     "execution_count": 2,
     "metadata": {},
     "output_type": "execute_result"
    }
   ],
   "source": [
    "new_arr=arr[:,1]+2000\n",
    "arr[:,1]=new_arr\n",
    "arr"
   ]
  },
  {
   "cell_type": "code",
   "execution_count": 3,
   "id": "651c9c69",
   "metadata": {},
   "outputs": [
    {
     "data": {
      "text/plain": [
       "array([[    3, 10778],\n",
       "       [    4, 11887],\n",
       "       [    5, 10997]])"
      ]
     },
     "execution_count": 3,
     "metadata": {},
     "output_type": "execute_result"
    }
   ],
   "source": [
    "matched=arr[:,1]>9000\n",
    "matched\n",
    "new_arr=arr[matched]\n",
    "new_arr"
   ]
  },
  {
   "cell_type": "code",
   "execution_count": null,
   "id": "e614fc23",
   "metadata": {},
   "outputs": [],
   "source": []
  }
 ],
 "metadata": {
  "kernelspec": {
   "display_name": "Python 3 (ipykernel)",
   "language": "python",
   "name": "python3"
  },
  "language_info": {
   "codemirror_mode": {
    "name": "ipython",
    "version": 3
   },
   "file_extension": ".py",
   "mimetype": "text/x-python",
   "name": "python",
   "nbconvert_exporter": "python",
   "pygments_lexer": "ipython3",
   "version": "3.11.3"
  }
 },
 "nbformat": 4,
 "nbformat_minor": 5
}
